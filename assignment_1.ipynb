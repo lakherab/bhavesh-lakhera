{
 "cells": [
  {
   "cell_type": "markdown",
   "id": "32de2c62-aeaf-47a2-9861-12820d9e7415",
   "metadata": {},
   "source": [
    "### Q1. Create one variable containing following type of data:\n"
   ]
  },
  {
   "cell_type": "code",
   "execution_count": 3,
   "id": "71cc9c47-ca1b-41d7-9359-392a24fda2d5",
   "metadata": {},
   "outputs": [
    {
     "name": "stdout",
     "output_type": "stream",
     "text": [
      "bhavesh ['ram', 'shayam', 5, 7, 8.2] 4.58955 (5, 6)\n",
      "<class 'tuple'>\n"
     ]
    }
   ],
   "source": [
    "a='bhavesh'\n",
    "b=['ram','shayam',5,7,8.2]\n",
    "c=4.58955\n",
    "d=(5,6)\n",
    "print(a ,b ,c , d)\n",
    "print(type(d))"
   ]
  },
  {
   "cell_type": "markdown",
   "id": "a40d6791-2332-4e37-a159-3f0b096628da",
   "metadata": {},
   "source": [
    "### Q2. Given are some following variables containing data:\n",
    "\n",
    "(i)\tvar1 = ‘ ‘\n",
    "\n",
    "(ii)\tvar2 = ‘[ DS , ML , Python]’\n",
    "\n",
    "(iii)\tvar3 = [ ‘DS’ , ’ML’ , ‘Python’ ]\n",
    "\n",
    "(iv)\tvar4 = 1"
   ]
  },
  {
   "cell_type": "code",
   "execution_count": 10,
   "id": "1c116a4d-5ae6-4228-8824-4df25cd7384a",
   "metadata": {},
   "outputs": [
    {
     "name": "stdout",
     "output_type": "stream",
     "text": [
      "String String list int respectively\n"
     ]
    }
   ],
   "source": [
    "print( \"String\", 'String', \"list\", \"int \" \"respectively\")"
   ]
  },
  {
   "cell_type": "markdown",
   "id": "343df456-b982-4331-a313-ac7dc43d4fba",
   "metadata": {},
   "source": [
    "### Q3. Explain the use of the following operators using an example:\n"
   ]
  },
  {
   "cell_type": "code",
   "execution_count": 19,
   "id": "2f588d06-0687-43ae-b8b0-b568abf32d63",
   "metadata": {},
   "outputs": [
    {
     "name": "stdout",
     "output_type": "stream",
     "text": [
      " / used to divide one number by other like 10 by 3 =  3.3333333333333335\n",
      " % used to find the reminder when we divide one number by other like 10 by 3 =  1\n",
      " // used to divide one number by other, but to get only integer part like 10 by 3 =  3\n",
      " ** used to do the mathematical operation like x raised to the power y like 2**3  =  8\n"
     ]
    }
   ],
   "source": [
    "print(\" / used to divide one number by other like 10 by 3 = \",10/3)\n",
    "print(\" % used to find the reminder when we divide one number by other like 10 by 3 = \",10%3)\n",
    "print(\" // used to divide one number by other, but to get only integer part like 10 by 3 = \",10//3)\n",
    "print(\" ** used to do the mathematical operation like x raised to the power y like 2**3  = \",2**3)"
   ]
  },
  {
   "cell_type": "code",
   "execution_count": 24,
   "id": "b1bc7780-9852-4a9f-b63d-d2269f1406ef",
   "metadata": {},
   "outputs": [],
   "source": [
    "list=[5,6,4,8,2,\"nnx\",\"jnjn\",\"mxxjnj\",4.58,5.9855555]"
   ]
  },
  {
   "cell_type": "code",
   "execution_count": 26,
   "id": "21605c12-bef9-4322-a67d-215cab423eca",
   "metadata": {},
   "outputs": [
    {
     "data": {
      "text/plain": [
       "10"
      ]
     },
     "execution_count": 26,
     "metadata": {},
     "output_type": "execute_result"
    }
   ],
   "source": [
    "len(list)"
   ]
  },
  {
   "cell_type": "code",
   "execution_count": 27,
   "id": "a41a4b9c-7f71-4f98-9343-9362dab14b71",
   "metadata": {},
   "outputs": [
    {
     "name": "stdout",
     "output_type": "stream",
     "text": [
      "5 <class 'int'>\n",
      "6 <class 'int'>\n",
      "4 <class 'int'>\n",
      "8 <class 'int'>\n",
      "2 <class 'int'>\n",
      "nnx <class 'str'>\n",
      "jnjn <class 'str'>\n",
      "mxxjnj <class 'str'>\n",
      "4.58 <class 'float'>\n",
      "5.9855555 <class 'float'>\n"
     ]
    }
   ],
   "source": [
    "for i in list:\n",
    "    print(i, type(i))"
   ]
  },
  {
   "cell_type": "code",
   "execution_count": 28,
   "id": "da5fc2f1-0cd4-4678-bd99-9c2563445471",
   "metadata": {},
   "outputs": [
    {
     "data": {
      "text/plain": [
       "2"
      ]
     },
     "execution_count": 28,
     "metadata": {},
     "output_type": "execute_result"
    }
   ],
   "source": [
    "2%3"
   ]
  },
  {
   "cell_type": "code",
   "execution_count": 39,
   "id": "851fc746-4ed1-4db8-9b62-a5fa7857d24b",
   "metadata": {},
   "outputs": [
    {
     "name": "stdout",
     "output_type": "stream",
     "text": [
      " a is purely divisible by b and 4 times\n"
     ]
    }
   ],
   "source": [
    "a=81\n",
    "b=3\n",
    "i=0\n",
    "while 1:\n",
    "    if a%b==0:\n",
    "        a=a/b\n",
    "        i=i+1\n",
    "    else:\n",
    "        print(\" a is purely divisible by b and\", i ,\"times\")\n",
    "        break      "
   ]
  },
  {
   "cell_type": "code",
   "execution_count": 1,
   "id": "4a4f2995-5675-408f-879b-d877a1196172",
   "metadata": {},
   "outputs": [
    {
     "data": {
      "text/plain": [
       "list"
      ]
     },
     "execution_count": 1,
     "metadata": {},
     "output_type": "execute_result"
    }
   ],
   "source": [
    "list"
   ]
  },
  {
   "cell_type": "code",
   "execution_count": 6,
   "id": "d23514af-1aff-48fe-a588-754d7056f5f0",
   "metadata": {},
   "outputs": [
    {
     "data": {
      "text/plain": [
       "[1,\n",
       " 2,\n",
       " 3,\n",
       " 4,\n",
       " 5,\n",
       " 6,\n",
       " 7,\n",
       " 8,\n",
       " 9,\n",
       " 10,\n",
       " 11,\n",
       " 12,\n",
       " 13,\n",
       " 14,\n",
       " 15,\n",
       " 16,\n",
       " 17,\n",
       " 18,\n",
       " 19,\n",
       " 20,\n",
       " 21,\n",
       " 22,\n",
       " 23,\n",
       " 24,\n",
       " 25]"
      ]
     },
     "execution_count": 6,
     "metadata": {},
     "output_type": "execute_result"
    }
   ],
   "source": [
    "l_list = list(range(1,26))\n",
    "type(l_list)\n",
    "l_list"
   ]
  },
  {
   "cell_type": "code",
   "execution_count": 8,
   "id": "c3af14f7-35c2-4bca-b34e-642eb24297b4",
   "metadata": {},
   "outputs": [
    {
     "name": "stdout",
     "output_type": "stream",
     "text": [
      "1 is not divisible by 3\n",
      "2 is not divisible by 3\n",
      "3 is divisible by 3\n",
      "4 is not divisible by 3\n",
      "5 is not divisible by 3\n",
      "6 is divisible by 3\n",
      "7 is not divisible by 3\n",
      "8 is not divisible by 3\n",
      "9 is divisible by 3\n",
      "10 is not divisible by 3\n",
      "11 is not divisible by 3\n",
      "12 is divisible by 3\n",
      "13 is not divisible by 3\n",
      "14 is not divisible by 3\n",
      "15 is divisible by 3\n",
      "16 is not divisible by 3\n",
      "17 is not divisible by 3\n",
      "18 is divisible by 3\n",
      "19 is not divisible by 3\n",
      "20 is not divisible by 3\n",
      "21 is divisible by 3\n",
      "22 is not divisible by 3\n",
      "23 is not divisible by 3\n",
      "24 is divisible by 3\n",
      "25 is not divisible by 3\n"
     ]
    }
   ],
   "source": [
    "for i in range(len(l_list)):\n",
    "    if l_ist[i]%3==0:\n",
    "        print(l_list[i], \"is divisible by 3\")\n",
    "    else:\n",
    "        print(l_list[i], \"is not divisible by 3\")   "
   ]
  },
  {
   "cell_type": "markdown",
   "id": "df136ce5-85c8-43e0-8c78-8bcb34691d51",
   "metadata": {},
   "source": [
    "### datatypes which can't be changed later like string and tuple are called immutable, and just opposite of this is mutable  fro ex"
   ]
  },
  {
   "cell_type": "code",
   "execution_count": 11,
   "id": "d5e3eebf-b5b8-4313-8307-c486a871e7d5",
   "metadata": {},
   "outputs": [
    {
     "ename": "TypeError",
     "evalue": "'str' object does not support item assignment",
     "output_type": "error",
     "traceback": [
      "\u001b[0;31m---------------------------------------------------------------------------\u001b[0m",
      "\u001b[0;31mTypeError\u001b[0m                                 Traceback (most recent call last)",
      "Cell \u001b[0;32mIn[11], line 2\u001b[0m\n\u001b[1;32m      1\u001b[0m string\u001b[38;5;241m=\u001b[39m\u001b[38;5;124m'\u001b[39m\u001b[38;5;124mram\u001b[39m\u001b[38;5;124m'\u001b[39m\n\u001b[0;32m----> 2\u001b[0m \u001b[43mstring\u001b[49m\u001b[43m[\u001b[49m\u001b[38;5;241;43m0\u001b[39;49m\u001b[43m]\u001b[49m\u001b[38;5;241m=\u001b[39m\u001b[38;5;124m'\u001b[39m\u001b[38;5;124mp\u001b[39m\u001b[38;5;124m'\u001b[39m\n",
      "\u001b[0;31mTypeError\u001b[0m: 'str' object does not support item assignment"
     ]
    }
   ],
   "source": [
    "string='ram'\n",
    "string[0]='p'"
   ]
  },
  {
   "cell_type": "code",
   "execution_count": 14,
   "id": "52b0af5d-56ed-44c7-8dcd-9d1f0dd5cf06",
   "metadata": {},
   "outputs": [
    {
     "data": {
      "text/plain": [
       "5"
      ]
     },
     "execution_count": 14,
     "metadata": {},
     "output_type": "execute_result"
    }
   ],
   "source": [
    "x=(5,6,7)\n",
    "x[0]"
   ]
  },
  {
   "cell_type": "code",
   "execution_count": 15,
   "id": "09dc3f77-959d-42f4-a3f7-6836b3574ce8",
   "metadata": {},
   "outputs": [
    {
     "ename": "TypeError",
     "evalue": "'tuple' object does not support item assignment",
     "output_type": "error",
     "traceback": [
      "\u001b[0;31m---------------------------------------------------------------------------\u001b[0m",
      "\u001b[0;31mTypeError\u001b[0m                                 Traceback (most recent call last)",
      "Cell \u001b[0;32mIn[15], line 1\u001b[0m\n\u001b[0;32m----> 1\u001b[0m \u001b[43mx\u001b[49m\u001b[43m[\u001b[49m\u001b[38;5;241;43m0\u001b[39;49m\u001b[43m]\u001b[49m\u001b[38;5;241m=\u001b[39m\u001b[38;5;241m6\u001b[39m\n",
      "\u001b[0;31mTypeError\u001b[0m: 'tuple' object does not support item assignment"
     ]
    }
   ],
   "source": [
    "x[0]=6"
   ]
  },
  {
   "cell_type": "code",
   "execution_count": null,
   "id": "c721c191-27c7-4fc9-a7d0-89dc8df4c62d",
   "metadata": {},
   "outputs": [],
   "source": []
  }
 ],
 "metadata": {
  "kernelspec": {
   "display_name": "Python 3 (ipykernel)",
   "language": "python",
   "name": "python3"
  },
  "language_info": {
   "codemirror_mode": {
    "name": "ipython",
    "version": 3
   },
   "file_extension": ".py",
   "mimetype": "text/x-python",
   "name": "python",
   "nbconvert_exporter": "python",
   "pygments_lexer": "ipython3",
   "version": "3.10.8"
  }
 },
 "nbformat": 4,
 "nbformat_minor": 5
}
