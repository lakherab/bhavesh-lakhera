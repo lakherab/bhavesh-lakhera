{
 "cells": [
  {
   "cell_type": "markdown",
   "id": "6cc85fd6-7f77-4f9c-9ba8-734fc908777a",
   "metadata": {},
   "source": [
    "Q1. How do you comment code in Python? What are the different types of comments?"
   ]
  },
  {
   "cell_type": "markdown",
   "id": "98dba48e-205d-4b73-914b-1c90859c7db4",
   "metadata": {},
   "source": [
    "1) single line comment using '#'\n",
    "ex."
   ]
  },
  {
   "cell_type": "code",
   "execution_count": 34,
   "id": "6d9186da-969e-45bc-8943-90f024881ce8",
   "metadata": {},
   "outputs": [],
   "source": [
    "#I am a boy"
   ]
  },
  {
   "cell_type": "markdown",
   "id": "bc6e1d7f-855a-4cf9-acf2-c3eb023351ad",
   "metadata": {},
   "source": [
    "2) Multiline comment using \"\"\"   or   ''' for ex."
   ]
  },
  {
   "cell_type": "code",
   "execution_count": 8,
   "id": "574e5f3a-e2a1-4854-beeb-473f4362ddb3",
   "metadata": {},
   "outputs": [
    {
     "data": {
      "text/plain": [
       "' I \\n\\nam a boy'"
      ]
     },
     "execution_count": 8,
     "metadata": {},
     "output_type": "execute_result"
    }
   ],
   "source": [
    "'''I am\n",
    "\n",
    "a boy'''\n",
    " \n",
    "\"\"\" I \n",
    "\n",
    "am a boy\"\"\""
   ]
  },
  {
   "cell_type": "markdown",
   "id": "ffefc2dc-1d1b-493f-b094-4d9a54d04186",
   "metadata": {},
   "source": [
    "Q2. What are variables in Python? How do you declare and assign values to variables?"
   ]
  },
  {
   "cell_type": "code",
   "execution_count": 9,
   "id": "27b4334b-2200-43ff-8a0e-156ed50ddffe",
   "metadata": {},
   "outputs": [
    {
     "name": "stdout",
     "output_type": "stream",
     "text": [
      "vaiables are used to assign values or manipulate data in python.\n",
      "for ex. \n",
      "a=25 \n",
      "here a is variable and 25 is value assigned to it.\n"
     ]
    }
   ],
   "source": [
    "print(\"\"\"vaiables are used to assign values or manipulate data in python.\n",
    "for ex. \n",
    "a=25 \n",
    "here a is variable and 25 is value assigned to it.\"\"\")"
   ]
  },
  {
   "cell_type": "markdown",
   "id": "c3e66c27-8663-4fee-a8fa-48279a3746bd",
   "metadata": {},
   "source": [
    "Q3. How do you convert one data type to another in Python?"
   ]
  },
  {
   "cell_type": "code",
   "execution_count": 10,
   "id": "035e2c83-c3d2-4869-90e5-39615257dd7f",
   "metadata": {},
   "outputs": [
    {
     "name": "stdout",
     "output_type": "stream",
     "text": [
      " using int(a), float(b), str(c), we can convert a,b,c to integer, float, and string values respectively     \n"
     ]
    }
   ],
   "source": [
    "print(\"\"\" using int(a), float(b), str(c), we can convert a,b,c to integer, float, and string values respectively     \"\"\")"
   ]
  },
  {
   "cell_type": "code",
   "execution_count": 14,
   "id": "743ebbfe-4b36-4c34-87cf-6363fdaa3f89",
   "metadata": {},
   "outputs": [
    {
     "ename": "SyntaxError",
     "evalue": "invalid syntax (607625255.py, line 1)",
     "output_type": "error",
     "traceback": [
      "\u001b[0;36m  Cell \u001b[0;32mIn[14], line 1\u001b[0;36m\u001b[0m\n\u001b[0;31m    To write and execute a Python script from the command line, you can follow these steps:\u001b[0m\n\u001b[0m       ^\u001b[0m\n\u001b[0;31mSyntaxError\u001b[0m\u001b[0;31m:\u001b[0m invalid syntax\n"
     ]
    }
   ],
   "source": [
    "To write and execute a Python script from the command line, you can follow these steps:\n",
    "\n",
    "Open a text editor: Use a text editor of your choice to write your Python script. You can use editors like Notepad, Sublime Text, Atom, Visual Studio Code, or any other text editor you prefer.\n",
    "\n",
    "Write your Python script: In the text editor, write your Python code. For example, let\\'s create a simple script that prints \"Hello, World!\":\n",
    "\n",
    "python\n",
    "Copy code\n",
    "# hello.py\n",
    "print(\"Hello, World!\")\n",
    "Save the script: Save the file with a .py extension. In this example, save the file as hello.py. Choose a location where you want to save the script.\n",
    "\n",
    "Open the command line: Open the command line interface on your computer. The method for opening the command line varies depending on the operating system you're using. For example, on Windows, you can press Win + R, type cmd, and press Enter to open the Command Prompt.\n",
    "\n",
    "Navigate to the script's location: Use the cd command (change directory) to navigate to the location where you saved your Python script. For example, if you saved the script in the Documents folder, you would use the following command in the command line:\n",
    "\n",
    "bash\n",
    "Copy code\n",
    "cd Documents\n",
    "Execute the script: Once you're in the directory where the script is located, you can execute it by running the python command followed by the script's filename. In our example, you would use the following command:\n",
    "\n",
    "Copy code\n",
    "python hello.py\n",
    "The Python interpreter will read the script file and execute the code. In this case, it will print \"Hello, World!\" to the console.\n",
    "\n",
    "That's it! You have successfully written and executed a Python script from the command line. You can modify the script, save it, and execute it again by following these steps\n"
   ]
  },
  {
   "cell_type": "markdown",
   "id": "ffaa0fee-24ac-4df9-ad2b-9b1cd190a110",
   "metadata": {},
   "source": [
    "Q5. Given a list my_list = [1, 2, 3, 4, 5], write the code to slice the list and obtain the sub-list [2, 3]."
   ]
  },
  {
   "cell_type": "code",
   "execution_count": 16,
   "id": "3eb5f07a-175b-4d70-91dc-4a047f2bb27d",
   "metadata": {},
   "outputs": [
    {
     "data": {
      "text/plain": [
       "[2, 3]"
      ]
     },
     "execution_count": 16,
     "metadata": {},
     "output_type": "execute_result"
    }
   ],
   "source": [
    "my_list = [1, 2, 3, 4, 5]\n",
    "my_list[1:3]"
   ]
  },
  {
   "cell_type": "markdown",
   "id": "28905805-ea3c-4f6d-8d71-7fd8616c0a6e",
   "metadata": {},
   "source": [
    "Q6. What is a complex number in mathematics, and how is it represented in Python?"
   ]
  },
  {
   "cell_type": "code",
   "execution_count": 18,
   "id": "e9824ba1-3ae6-471f-91f7-e500a4de5a6e",
   "metadata": {},
   "outputs": [
    {
     "name": "stdout",
     "output_type": "stream",
     "text": [
      "In mathematics, a complex number is a number that consists of two parts: a real part and an imaginary part. It is represented in the form a + bi, where a is the real part, b is the imaginary part, and i is the imaginary unit, which is defined as the square root of -1.\n",
      "\n",
      "In Python, complex numbers are supported as a built-in data type. To represent a complex number in Python, you can use the j or J suffix to indicate the imaginary part. The real and imaginary parts are separated by the + or - operator.\n",
      "\n",
      "for ex x + ij or 2 + 3j\n",
      "\n",
      "\n"
     ]
    }
   ],
   "source": [
    "print(\"\"\"In mathematics, a complex number is a number that consists of two parts: a real part and an imaginary part. It is represented in the form a + bi, where a is the real part, b is the imaginary part, and i is the imaginary unit, which is defined as the square root of -1.\n",
    "\n",
    "In Python, complex numbers are supported as a built-in data type. To represent a complex number in Python, you can use the j or J suffix to indicate the imaginary part. The real and imaginary parts are separated by the + or - operator.\n",
    "\n",
    "for ex x + ij or 2 + 3j\n",
    "\n",
    "\"\"\")"
   ]
  },
  {
   "cell_type": "code",
   "execution_count": 19,
   "id": "6ced8ea5-79a2-4e2b-bdc9-a5f1471bb676",
   "metadata": {},
   "outputs": [],
   "source": [
    "# vairable name can not start with numeric values and it should be alpha numeric \n",
    "# for ex a=25, here a is variable name, in python you do not need to declare the variable type."
   ]
  },
  {
   "cell_type": "markdown",
   "id": "0320a0e3-66df-4677-b780-86bc3244d13e",
   "metadata": {},
   "source": [
    "Q8. Declare a variable named price and assign the value 9.99 to it. What data type does this variable\n",
    "belong to?"
   ]
  },
  {
   "cell_type": "code",
   "execution_count": 21,
   "id": "36e1a912-0c1e-4f00-be63-e682ab9d78cb",
   "metadata": {},
   "outputs": [
    {
     "name": "stdout",
     "output_type": "stream",
     "text": [
      " type of this variable is : <class 'float'>\n"
     ]
    }
   ],
   "source": [
    "price=9.99\n",
    "print(\" type of this variable is :\", type(price))"
   ]
  },
  {
   "cell_type": "markdown",
   "id": "80807e60-c0b6-45fd-80d4-618179b22f84",
   "metadata": {},
   "source": [
    "Q9. Create a variable named name and assign your full name to it as a string. How would you print the\n",
    "value of this variable?"
   ]
  },
  {
   "cell_type": "code",
   "execution_count": 22,
   "id": "b9eb8b45-798f-43e5-9432-5848670c5921",
   "metadata": {},
   "outputs": [],
   "source": [
    "name=\"Bhavesh Lakhera\""
   ]
  },
  {
   "cell_type": "code",
   "execution_count": 29,
   "id": "8786b047-b956-40a1-b87e-9fdbc915fe05",
   "metadata": {},
   "outputs": [
    {
     "name": "stdout",
     "output_type": "stream",
     "text": [
      " printing all values of name\n"
     ]
    }
   ],
   "source": [
    "print(\" printing all values of name\")"
   ]
  },
  {
   "cell_type": "code",
   "execution_count": 30,
   "id": "42aa75d8-7873-4d00-b9b9-de42baebdd04",
   "metadata": {},
   "outputs": [
    {
     "data": {
      "text/plain": [
       "'Bhavesh Lakhera'"
      ]
     },
     "execution_count": 30,
     "metadata": {},
     "output_type": "execute_result"
    }
   ],
   "source": [
    "name[::]"
   ]
  },
  {
   "cell_type": "markdown",
   "id": "a7f9e9b6-4990-41f7-b74f-7b6a2d373129",
   "metadata": {},
   "source": [
    "Q10. Given the string \"Hello, World!\", extract the substring \"World\"."
   ]
  },
  {
   "cell_type": "code",
   "execution_count": 31,
   "id": "540aca8f-f441-4aed-9b4c-894c6ca62703",
   "metadata": {},
   "outputs": [
    {
     "name": "stdout",
     "output_type": "stream",
     "text": [
      "req substring is : World\n"
     ]
    }
   ],
   "source": [
    "x=\"Hello, World!\"\n",
    "print(\"req substring is :\", x[7:12])"
   ]
  },
  {
   "cell_type": "markdown",
   "id": "59929fc9-86e6-403f-ad1c-9699e23d214d",
   "metadata": {},
   "source": [
    "Q11. Create a variable named \"is_student\" and assign it a boolean value indicating whether you are\n",
    "currently a student or not."
   ]
  },
  {
   "cell_type": "code",
   "execution_count": 32,
   "id": "892bbf48-ba2b-48ee-878c-3fff0a61267c",
   "metadata": {},
   "outputs": [],
   "source": [
    "is_student=True"
   ]
  },
  {
   "cell_type": "code",
   "execution_count": 33,
   "id": "0c6a476a-f596-45ee-ba27-110b48601bb1",
   "metadata": {},
   "outputs": [
    {
     "data": {
      "text/plain": [
       "True"
      ]
     },
     "execution_count": 33,
     "metadata": {},
     "output_type": "execute_result"
    }
   ],
   "source": [
    "is_student"
   ]
  },
  {
   "cell_type": "code",
   "execution_count": null,
   "id": "22d642fa-1fa7-4e0f-8c05-339983eb02f6",
   "metadata": {},
   "outputs": [],
   "source": []
  }
 ],
 "metadata": {
  "kernelspec": {
   "display_name": "Python 3 (ipykernel)",
   "language": "python",
   "name": "python3"
  },
  "language_info": {
   "codemirror_mode": {
    "name": "ipython",
    "version": 3
   },
   "file_extension": ".py",
   "mimetype": "text/x-python",
   "name": "python",
   "nbconvert_exporter": "python",
   "pygments_lexer": "ipython3",
   "version": "3.10.8"
  }
 },
 "nbformat": 4,
 "nbformat_minor": 5
}
